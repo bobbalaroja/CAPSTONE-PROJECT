{
  "nbformat": 4,
  "nbformat_minor": 0,
  "metadata": {
    "colab": {
      "provenance": []
    },
    "kernelspec": {
      "name": "python3",
      "display_name": "Python 3"
    },
    "language_info": {
      "name": "python"
    }
  },
  "cells": [
    {
      "cell_type": "markdown",
      "source": [
        "**                                                      module 1: Graded Quiz: Data Wrangling Quiz**"
      ],
      "metadata": {
        "id": "0L56S0hj_LbB"
      }
    },
    {
      "cell_type": "markdown",
      "source": [
        "How many launches came from CCAFS SLC 40?"
      ],
      "metadata": {
        "id": "0DOB0-43_GTE"
      }
    },
    {
      "cell_type": "code",
      "execution_count": 1,
      "metadata": {
        "colab": {
          "base_uri": "https://localhost:8080/"
        },
        "id": "h7cyc78s-Dn7",
        "outputId": "398a7494-fb42-4198-9721-9a38c2ea6f1e"
      },
      "outputs": [
        {
          "output_type": "stream",
          "name": "stdout",
          "text": [
            "Number of launches from CCAFS SLC 40: 55\n"
          ]
        }
      ],
      "source": [
        "import pandas as pd\n",
        "\n",
        "# Dataset URL\n",
        "url = \"https://cf-courses-data.s3.us.cloud-object-storage.appdomain.cloud/IBM-DS0321EN-SkillsNetwork/datasets/dataset_part_1.csv\"\n",
        "\n",
        "# Load the dataset directly from the URL\n",
        "df = pd.read_csv(url)\n",
        "\n",
        "# Count the number of launches from \"CCAFS SLC 40\"\n",
        "launch_counts = df['LaunchSite'].value_counts()\n",
        "ccafs_slc_40_count = launch_counts.get('CCAFS SLC 40', 0)\n",
        "\n",
        "print(f\"Number of launches from CCAFS SLC 40: {ccafs_slc_40_count}\")\n"
      ]
    },
    {
      "cell_type": "markdown",
      "source": [
        "Question 3\n",
        "In the lab you used the method .value_counts() to determine the number and occurrence of each orbit in the column Orbit. What was the value for Orbit with the column name GTO."
      ],
      "metadata": {
        "id": "iqMDtMpt_EY0"
      }
    },
    {
      "cell_type": "code",
      "source": [
        "import pandas as pd\n",
        "\n",
        "# Dataset URL\n",
        "url = \"https://cf-courses-data.s3.us.cloud-object-storage.appdomain.cloud/IBM-DS0321EN-SkillsNetwork/datasets/dataset_part_1.csv\"\n",
        "\n",
        "# Load the dataset\n",
        "df = pd.read_csv(url)\n",
        "\n",
        "# Use .value_counts() on the Orbit column to get occurrences of each orbit type\n",
        "orbit_counts = df['Orbit'].value_counts()\n",
        "\n",
        "# Get the value for the \"GTO\" orbit\n",
        "gto_count = orbit_counts.get('GTO', 0)\n",
        "\n",
        "print(f\"Number of launches with orbit 'GTO': {gto_count}\")\n"
      ],
      "metadata": {
        "colab": {
          "base_uri": "https://localhost:8080/"
        },
        "id": "ynKxndlC-gER",
        "outputId": "3c890b9e-08a3-48e6-e871-d19bf8617fd3"
      },
      "execution_count": 2,
      "outputs": [
        {
          "output_type": "stream",
          "name": "stdout",
          "text": [
            "Number of launches with orbit 'GTO': 27\n"
          ]
        }
      ]
    }
  ]
}